{
 "cells": [
  {
   "cell_type": "code",
   "execution_count": 15,
   "metadata": {},
   "outputs": [],
   "source": [
    "import pandas as pd\n",
    "import pymongo\n",
    "from datetime import datetime\n",
    "\n",
    "# client = pymongo.MongoClient(\"mongodb://172.31.99.238:27017\")\n",
    "client = pymongo.MongoClient(\"mongodb://0.0.0.0:27017\") # for without docker\n",
    "# clinet = pymongo.MongoClient(\"mongodb://host.docker.internal:27017\") # for docker on windows\n",
    "# client = pymongo.MongoClient(\"mongodb://172.17.0.1:27017\") # for docker on linux (ubuntu)\n"
   ]
  },
  {
   "cell_type": "code",
   "execution_count": 16,
   "metadata": {},
   "outputs": [
    {
     "name": "stdout",
     "output_type": "stream",
     "text": [
      "Collections in the database:\n",
      "responses_to_ads\n",
      "survey_respondents\n",
      "purchase_info\n",
      "demographic_data\n",
      "advertisement_info\n",
      "ad_metrics\n",
      "ad_demographic_link\n"
     ]
    }
   ],
   "source": [
    "# Connect to the database\n",
    "db = client[\"ad_response_analysis_tf\"]\n",
    "\n",
    "# Retrieve the list of collections (tables)\n",
    "collections = db.list_collection_names()\n",
    "\n",
    "# Print the list of collections\n",
    "print(\"Collections in the database:\")\n",
    "for collection in collections:\n",
    "    print(collection)\n"
   ]
  },
  {
   "cell_type": "code",
   "execution_count": 17,
   "metadata": {},
   "outputs": [
    {
     "name": "stdout",
     "output_type": "stream",
     "text": [
      "Data from collection 'advertisement_info':\n",
      "                        _id  AdID  AdCost  AdDuration AdPlatformName  \\\n",
      "0  6733d5cf4eec8b82b12d8693     1     725         445       Facebook   \n",
      "\n",
      "  AdPlatformType AdTopic AdType  PurchaseAmount  \n",
      "0   Social Media  Sports  Video             680  \n",
      "Data from collection 'ad_metrics':\n",
      "                        _id  AdID  Click_Through_Rate  Conversion_Rate  \\\n",
      "0  6733d5cf4eec8b82b12d87d8     1            0.468085         0.031915   \n",
      "\n",
      "  Mode_Engagement_Time  \n",
      "0                  180  \n"
     ]
    }
   ],
   "source": [
    "# Collections to retrieve\n",
    "collections_to_retrieve = [\"advertisement_info\", \"ad_metrics\"]\n",
    "data_collection= []\n",
    "# Retrieve data from specified collections and convert to DataFrame\n",
    "for collection_name in collections_to_retrieve:\n",
    "    collection = db[collection_name]\n",
    "    data = list(collection.find())\n",
    "    data_collection.append(data)\n",
    "    df = pd.DataFrame(data)\n",
    "    print(f\"Data from collection '{collection_name}':\")\n",
    "    print(df.head(1))\n"
   ]
  },
  {
   "cell_type": "code",
   "execution_count": 18,
   "metadata": {},
   "outputs": [],
   "source": [
    "advertisement_info = pd.DataFrame(data_collection[0])\n",
    "ad_metrics = pd.DataFrame(data_collection[1])"
   ]
  },
  {
   "cell_type": "code",
   "execution_count": 19,
   "metadata": {},
   "outputs": [
    {
     "name": "stdout",
     "output_type": "stream",
     "text": [
      "                        _id  AdID  AdCost  AdDuration AdPlatformName  \\\n",
      "0  6733d5cf4eec8b82b12d8693     1     725         445       Facebook   \n",
      "1  6733d5cf4eec8b82b12d8694     2     466         544        Netflix   \n",
      "2  6733d5cf4eec8b82b12d8695     3     143           0          Yahoo   \n",
      "3  6733d5cf4eec8b82b12d8696     4     265           0        Threads   \n",
      "4  6733d5cf4eec8b82b12d8697     5     113         573        Twitter   \n",
      "\n",
      "  AdPlatformType     AdTopic  AdType  PurchaseAmount  \n",
      "0   Social Media      Sports   Video             680  \n",
      "1      Streaming  Healthcare   Video            2403  \n",
      "2  Search Engine  Technology  Banner             510  \n",
      "3   Social Media     Fashion    Text            2626  \n",
      "4   Social Media   Political   Video            2428  \n",
      "                        _id  AdID  Click_Through_Rate  Conversion_Rate  \\\n",
      "0  6733d5cf4eec8b82b12d87d8     1            0.468085         0.031915   \n",
      "1  6733d5cf4eec8b82b12d87d9     2            0.489583         0.052083   \n",
      "2  6733d5cf4eec8b82b12d87da     3            0.494845         0.082474   \n",
      "3  6733d5cf4eec8b82b12d87db     4            0.584906         0.113208   \n",
      "4  6733d5cf4eec8b82b12d87dc     5            0.478992         0.058824   \n",
      "\n",
      "  Mode_Engagement_Time  \n",
      "0                  180  \n",
      "1                   31  \n",
      "2                   25  \n",
      "3                  135  \n",
      "4                  342  \n"
     ]
    }
   ],
   "source": [
    "print(advertisement_info.head())\n",
    "print(ad_metrics.head())"
   ]
  },
  {
   "cell_type": "code",
   "execution_count": 20,
   "metadata": {},
   "outputs": [],
   "source": [
    "advertisement_info = advertisement_info.drop(columns=['_id', 'AdDuration'])\n",
    "ad_metrics = ad_metrics.drop(columns=['_id', 'Mode_Engagement_Time'])\n",
    "\n"
   ]
  },
  {
   "cell_type": "code",
   "execution_count": 21,
   "metadata": {},
   "outputs": [
    {
     "name": "stdout",
     "output_type": "stream",
     "text": [
      "Length of advertisement_info DataFrame: 100\n",
      "Length of ad_metrics DataFrame: 110\n",
      "Null values in advertisement_info DataFrame:\n",
      "AdID              0\n",
      "AdCost            0\n",
      "AdPlatformName    0\n",
      "AdPlatformType    0\n",
      "AdTopic           0\n",
      "AdType            0\n",
      "PurchaseAmount    0\n",
      "dtype: int64\n",
      "Null values in ad_metrics DataFrame:\n",
      "AdID                  0\n",
      "Click_Through_Rate    0\n",
      "Conversion_Rate       0\n",
      "dtype: int64\n",
      "Data types in advertisement_info DataFrame:\n",
      "AdID               int64\n",
      "AdCost             int64\n",
      "AdPlatformName    object\n",
      "AdPlatformType    object\n",
      "AdTopic           object\n",
      "AdType            object\n",
      "PurchaseAmount     int64\n",
      "dtype: object\n",
      "Data types in ad_metrics DataFrame:\n",
      "AdID                    int64\n",
      "Click_Through_Rate    float64\n",
      "Conversion_Rate       float64\n",
      "dtype: object\n"
     ]
    }
   ],
   "source": [
    "# Print the length of the DataFrames\n",
    "print(\"Length of advertisement_info DataFrame:\", len(advertisement_info))\n",
    "print(\"Length of ad_metrics DataFrame:\", len(ad_metrics))\n",
    "\n",
    "# Check for null values\n",
    "print(\"Null values in advertisement_info DataFrame:\")\n",
    "print(advertisement_info.isnull().sum())\n",
    "\n",
    "print(\"Null values in ad_metrics DataFrame:\")\n",
    "print(ad_metrics.isnull().sum())\n",
    "\n",
    "# Print the data types of each column\n",
    "print(\"Data types in advertisement_info DataFrame:\")\n",
    "print(advertisement_info.dtypes)\n",
    "\n",
    "print(\"Data types in ad_metrics DataFrame:\")\n",
    "print(ad_metrics.dtypes)"
   ]
  },
  {
   "cell_type": "code",
   "execution_count": 22,
   "metadata": {},
   "outputs": [],
   "source": [
    "# Convert object columns to string\n",
    "advertisement_info['AdPlatformName'] = advertisement_info['AdPlatformName'].astype(str)\n",
    "advertisement_info['AdPlatformType'] = advertisement_info['AdPlatformType'].astype(str)\n",
    "advertisement_info['AdTopic'] = advertisement_info['AdTopic'].astype(str)\n",
    "advertisement_info['AdType'] = advertisement_info['AdType'].astype(str)\n"
   ]
  },
  {
   "cell_type": "code",
   "execution_count": 23,
   "metadata": {},
   "outputs": [
    {
     "name": "stdout",
     "output_type": "stream",
     "text": [
      "Data types in advertisement_info DataFrame:\n",
      "AdID               int64\n",
      "AdCost             int64\n",
      "AdPlatformName    object\n",
      "AdPlatformType    object\n",
      "AdTopic           object\n",
      "AdType            object\n",
      "PurchaseAmount     int64\n",
      "dtype: object\n",
      "Data types in ad_metrics DataFrame:\n",
      "AdID                    int64\n",
      "Click_Through_Rate    float64\n",
      "Conversion_Rate       float64\n",
      "dtype: object\n"
     ]
    }
   ],
   "source": [
    "# Print the data types of each column\n",
    "print(\"Data types in advertisement_info DataFrame:\")\n",
    "print(advertisement_info.dtypes)\n",
    "\n",
    "print(\"Data types in ad_metrics DataFrame:\")\n",
    "print(ad_metrics.dtypes)"
   ]
  },
  {
   "cell_type": "code",
   "execution_count": 24,
   "metadata": {},
   "outputs": [
    {
     "name": "stdout",
     "output_type": "stream",
     "text": [
      "   AdID  AdCost AdPlatformName AdPlatformType     AdTopic  AdType  \\\n",
      "0     1     725       Facebook   Social Media      Sports   Video   \n",
      "1     2     466        Netflix      Streaming  Healthcare   Video   \n",
      "2     3     143          Yahoo  Search Engine  Technology  Banner   \n",
      "3     4     265        Threads   Social Media     Fashion    Text   \n",
      "4     5     113        Twitter   Social Media   Political   Video   \n",
      "\n",
      "   PurchaseAmount  \n",
      "0             680  \n",
      "1            2403  \n",
      "2             510  \n",
      "3            2626  \n",
      "4            2428  \n"
     ]
    }
   ],
   "source": [
    "print(advertisement_info.head())"
   ]
  },
  {
   "cell_type": "code",
   "execution_count": 25,
   "metadata": {},
   "outputs": [
    {
     "name": "stdout",
     "output_type": "stream",
     "text": [
      "   AdID  AdCost AdPlatformName AdPlatformType     AdTopic  AdType  \\\n",
      "0     1     725       Facebook   Social Media      Sports   Video   \n",
      "1     2     466        Netflix      Streaming  Healthcare   Video   \n",
      "2     3     143          Yahoo  Search Engine  Technology  Banner   \n",
      "3     4     265        Threads   Social Media     Fashion    Text   \n",
      "4     5     113        Twitter   Social Media   Political   Video   \n",
      "\n",
      "   PurchaseAmount  Click_Through_Rate  Conversion_Rate  \n",
      "0             680            0.468085         0.031915  \n",
      "1            2403            0.489583         0.052083  \n",
      "2             510            0.494845         0.082474  \n",
      "3            2626            0.584906         0.113208  \n",
      "4            2428            0.478992         0.058824  \n"
     ]
    }
   ],
   "source": [
    "# Merge the two DataFrames on AdID\n",
    "merged_df = pd.merge(advertisement_info, ad_metrics, on='AdID')\n",
    "print(merged_df.head())"
   ]
  },
  {
   "cell_type": "code",
   "execution_count": 26,
   "metadata": {},
   "outputs": [
    {
     "name": "stdout",
     "output_type": "stream",
     "text": [
      "Data types in merged DataFrame:\n",
      "AdID                    int64\n",
      "AdCost                  int64\n",
      "AdPlatformName         object\n",
      "AdPlatformType         object\n",
      "AdTopic                object\n",
      "AdType                 object\n",
      "PurchaseAmount          int64\n",
      "Click_Through_Rate    float64\n",
      "Conversion_Rate       float64\n",
      "dtype: object\n"
     ]
    }
   ],
   "source": [
    "print(\"Data types in merged DataFrame:\")\n",
    "print(merged_df.dtypes)"
   ]
  },
  {
   "cell_type": "code",
   "execution_count": 27,
   "metadata": {},
   "outputs": [],
   "source": [
    "# Store Click_Through_Rate and Conversion_Rate into separate variables\n",
    "click_through_rate = merged_df['Click_Through_Rate']\n",
    "conversion_rate = merged_df['Conversion_Rate']\n",
    "\n",
    "# Drop AdID, Click_Through_Rate, and Conversion_Rate columns from merged_df\n",
    "merged_df = merged_df.drop(columns=['AdID', 'Click_Through_Rate', 'Conversion_Rate'])\n"
   ]
  },
  {
   "cell_type": "code",
   "execution_count": 28,
   "metadata": {},
   "outputs": [],
   "source": [
    "# One-hot encode the specified columns\n",
    "encoded_df = pd.get_dummies(merged_df, columns=['AdPlatformName', 'AdPlatformType', 'AdTopic', 'AdType'])\n"
   ]
  },
  {
   "cell_type": "code",
   "execution_count": 29,
   "metadata": {},
   "outputs": [
    {
     "name": "stdout",
     "output_type": "stream",
     "text": [
      "DataFrame after one-hot encoding:\n",
      "   AdCost  PurchaseAmount  AdPlatformName_Amazon Prime  AdPlatformName_Bing  \\\n",
      "0     725             680                        False                False   \n",
      "\n",
      "   AdPlatformName_Facebook  AdPlatformName_Google  AdPlatformName_Hotstar  \\\n",
      "0                     True                  False                   False   \n",
      "\n",
      "   AdPlatformName_Instagram  AdPlatformName_JioTV  \\\n",
      "0                     False                 False   \n",
      "\n",
      "   AdPlatformName_Kids Channel  ...  AdTopic_Food  AdTopic_Healthcare  \\\n",
      "0                        False  ...         False               False   \n",
      "\n",
      "   AdTopic_Political  AdTopic_Real Estate  AdTopic_Sports  AdTopic_Technology  \\\n",
      "0              False                False            True               False   \n",
      "\n",
      "   AdTopic_Travel  AdType_Banner  AdType_Text  AdType_Video  \n",
      "0           False          False        False          True  \n",
      "\n",
      "[1 rows x 41 columns]\n"
     ]
    }
   ],
   "source": [
    "# Create a DataFrame with the encoded columns\n",
    "encoded_df = pd.DataFrame(encoded_array, columns=encoder.get_feature_names_out(categorical_columns))\n",
    "\n",
    "# Drop the original categorical columns and concatenate the encoded columns\n",
    "merged_df = merged_df.drop(columns=categorical_columns)\n",
    "merged_df = pd.concat([df, encoded_df], axis=1)"
   ]
  },
  {
   "cell_type": "code",
   "execution_count": 30,
   "metadata": {},
   "outputs": [
    {
     "name": "stdout",
     "output_type": "stream",
     "text": [
      "Column names of the encoded DataFrame:\n",
      "Index(['AdPlatformName_Amazon Prime', 'AdPlatformName_Bing',\n",
      "       'AdPlatformName_Facebook', 'AdPlatformName_Google',\n",
      "       'AdPlatformName_Hotstar', 'AdPlatformName_Instagram',\n",
      "       'AdPlatformName_JioTV', 'AdPlatformName_Kids Channel',\n",
      "       'AdPlatformName_LinkedIn', 'AdPlatformName_Movie Channel',\n",
      "       'AdPlatformName_Music Channel', 'AdPlatformName_Netflix',\n",
      "       'AdPlatformName_News Channel', 'AdPlatformName_Snapchat',\n",
      "       'AdPlatformName_Sports Channel', 'AdPlatformName_Threads',\n",
      "       'AdPlatformName_Twitter', 'AdPlatformName_Yahoo',\n",
      "       'AdPlatformName_YouTube', 'AdPlatformName_Zee5',\n",
      "       'AdPlatformType_Search Engine', 'AdPlatformType_Social Media',\n",
      "       'AdPlatformType_Streaming', 'AdPlatformType_TV', 'AdTopic_Automobile',\n",
      "       'AdTopic_Education', 'AdTopic_Entertainment', 'AdTopic_Fashion',\n",
      "       'AdTopic_Finance', 'AdTopic_Food', 'AdTopic_Healthcare',\n",
      "       'AdTopic_Political', 'AdTopic_Real Estate', 'AdTopic_Sports',\n",
      "       'AdTopic_Technology', 'AdTopic_Travel', 'AdType_Banner', 'AdType_Text',\n",
      "       'AdType_Video'],\n",
      "      dtype='object')\n"
     ]
    }
   ],
   "source": [
    "# Print all column names of the encoded DataFrame\n",
    "print(\"Column names of the encoded DataFrame:\")\n",
    "print(encoded_df.columns)\n"
   ]
  },
  {
   "cell_type": "code",
   "execution_count": 31,
   "metadata": {},
   "outputs": [],
   "source": [
    "\n",
    "# List of columns to transform\n",
    "columns_to_transform = [\n",
    "    'AdPlatformName_Amazon Prime', 'AdPlatformName_Bing', 'AdPlatformName_Facebook', \n",
    "    'AdPlatformName_Google', 'AdPlatformName_Hotstar', 'AdPlatformName_Instagram', \n",
    "    'AdPlatformName_JioTV', 'AdPlatformName_Kids Channel', 'AdPlatformName_LinkedIn', \n",
    "    'AdPlatformName_Movie Channel', 'AdPlatformName_Music Channel', 'AdPlatformName_Netflix', \n",
    "    'AdPlatformName_News Channel', 'AdPlatformName_Snapchat', 'AdPlatformName_Sports Channel', \n",
    "    'AdPlatformName_Threads', 'AdPlatformName_Twitter', 'AdPlatformName_Yahoo', \n",
    "    'AdPlatformName_YouTube', 'AdPlatformName_Zee5', 'AdPlatformType_Search Engine', \n",
    "    'AdPlatformType_Social Media', 'AdPlatformType_Streaming', 'AdPlatformType_TV', \n",
    "    'AdTopic_Automobile', 'AdTopic_Education', 'AdTopic_Entertainment', 'AdTopic_Fashion', \n",
    "    'AdTopic_Finance', 'AdTopic_Food', 'AdTopic_Healthcare', 'AdTopic_Political', \n",
    "    'AdTopic_Real Estate', 'AdTopic_Sports', 'AdTopic_Technology', 'AdTopic_Travel', \n",
    "    'AdType_Banner', 'AdType_Text', 'AdType_Video'\n",
    "]\n",
    "\n",
    "# Convert True to 1 and False to 0 for the specified columns\n",
    "for column in columns_to_transform:\n",
    "    encoded_df[column] = encoded_df[column].astype(int)"
   ]
  },
  {
   "cell_type": "code",
   "execution_count": 32,
   "metadata": {},
   "outputs": [
    {
     "name": "stdout",
     "output_type": "stream",
     "text": [
      "Data types in merged DataFrame:\n",
      "AdPlatformName_Amazon Prime      int64\n",
      "AdPlatformName_Bing              int64\n",
      "AdPlatformName_Facebook          int64\n",
      "AdPlatformName_Google            int64\n",
      "AdPlatformName_Hotstar           int64\n",
      "AdPlatformName_Instagram         int64\n",
      "AdPlatformName_JioTV             int64\n",
      "AdPlatformName_Kids Channel      int64\n",
      "AdPlatformName_LinkedIn          int64\n",
      "AdPlatformName_Movie Channel     int64\n",
      "AdPlatformName_Music Channel     int64\n",
      "AdPlatformName_Netflix           int64\n",
      "AdPlatformName_News Channel      int64\n",
      "AdPlatformName_Snapchat          int64\n",
      "AdPlatformName_Sports Channel    int64\n",
      "AdPlatformName_Threads           int64\n",
      "AdPlatformName_Twitter           int64\n",
      "AdPlatformName_Yahoo             int64\n",
      "AdPlatformName_YouTube           int64\n",
      "AdPlatformName_Zee5              int64\n",
      "AdPlatformType_Search Engine     int64\n",
      "AdPlatformType_Social Media      int64\n",
      "AdPlatformType_Streaming         int64\n",
      "AdPlatformType_TV                int64\n",
      "AdTopic_Automobile               int64\n",
      "AdTopic_Education                int64\n",
      "AdTopic_Entertainment            int64\n",
      "AdTopic_Fashion                  int64\n",
      "AdTopic_Finance                  int64\n",
      "AdTopic_Food                     int64\n",
      "AdTopic_Healthcare               int64\n",
      "AdTopic_Political                int64\n",
      "AdTopic_Real Estate              int64\n",
      "AdTopic_Sports                   int64\n",
      "AdTopic_Technology               int64\n",
      "AdTopic_Travel                   int64\n",
      "AdType_Banner                    int64\n",
      "AdType_Text                      int64\n",
      "AdType_Video                     int64\n",
      "dtype: object\n"
     ]
    }
   ],
   "source": [
    "print(\"Data types in merged DataFrame:\")\n",
    "print(encoded_df.dtypes)"
   ]
  },
  {
   "cell_type": "code",
   "execution_count": 33,
   "metadata": {},
   "outputs": [
    {
     "name": "stdout",
     "output_type": "stream",
     "text": [
      "Click Through Rate Model - Mean Squared Error: 0.005307639814641411, R^2 Score: -1.0341188360900682\n",
      "Conversion Rate Model - Mean Squared Error: 0.002667069726033916, R^2 Score: -1.5116533301379267\n"
     ]
    }
   ],
   "source": [
    "from sklearn.model_selection import train_test_split\n",
    "from sklearn.linear_model import LinearRegression\n",
    "from sklearn.metrics import mean_squared_error, r2_score\n",
    "\n",
    "# Define the features and target variables\n",
    "X = encoded_df.copy()\n",
    "y_click_through_rate = click_through_rate\n",
    "y_conversion_rate = conversion_rate\n",
    "\n",
    "# Split the data into training and testing sets for click_through_rate\n",
    "X_train_ctr, X_test_ctr, y_train_ctr, y_test_ctr = train_test_split(X, y_click_through_rate, test_size=0.2, random_state=42)\n",
    "\n",
    "# Split the data into training and testing sets for conversion_rate\n",
    "X_train_cr, X_test_cr, y_train_cr, y_test_cr = train_test_split(X, y_conversion_rate, test_size=0.2, random_state=42)\n",
    "\n",
    "# Train the linear regression model for click_through_rate\n",
    "model_ctr = LinearRegression()\n",
    "model_ctr.fit(X_train_ctr, y_train_ctr)\n",
    "\n",
    "# Train the linear regression model for conversion_rate\n",
    "model_cr = LinearRegression()\n",
    "model_cr.fit(X_train_cr, y_train_cr)\n",
    "\n",
    "# Predict and evaluate the model for click_through_rate\n",
    "y_pred_ctr = model_ctr.predict(X_test_ctr)\n",
    "mse_ctr = mean_squared_error(y_test_ctr, y_pred_ctr)\n",
    "r2_ctr = r2_score(y_test_ctr, y_pred_ctr)\n",
    "\n",
    "print(f'Click Through Rate Model - Mean Squared Error: {mse_ctr}, R^2 Score: {r2_ctr}')\n",
    "\n",
    "# Predict and evaluate the model for conversion_rate\n",
    "y_pred_cr = model_cr.predict(X_test_cr)\n",
    "mse_cr = mean_squared_error(y_test_cr, y_pred_cr)\n",
    "r2_cr = r2_score(y_test_cr, y_pred_cr)\n",
    "\n",
    "print(f'Conversion Rate Model - Mean Squared Error: {mse_cr}, R^2 Score: {r2_cr}')"
   ]
  },
  {
   "cell_type": "code",
   "execution_count": 34,
   "metadata": {},
   "outputs": [
    {
     "name": "stdout",
     "output_type": "stream",
     "text": [
      "Lasso Click Through Rate Model Accuracy: -2.29%\n",
      "Lasso Conversion Rate Model Accuracy: -7.88%\n",
      "Ridge Click Through Rate Model Accuracy: -73.74%\n",
      "Ridge Conversion Rate Model Accuracy: -49.63%\n"
     ]
    }
   ],
   "source": [
    "from sklearn.linear_model import Lasso, Ridge\n",
    "\n",
    "# Train the Lasso regression model for click_through_rate\n",
    "lasso_ctr = Lasso()\n",
    "lasso_ctr.fit(X_train_ctr, y_train_ctr)\n",
    "\n",
    "# Train the Lasso regression model for conversion_rate\n",
    "lasso_cr = Lasso()\n",
    "lasso_cr.fit(X_train_cr, y_train_cr)\n",
    "\n",
    "# Train the Ridge regression model for click_through_rate\n",
    "ridge_ctr = Ridge()\n",
    "ridge_ctr.fit(X_train_ctr, y_train_ctr)\n",
    "\n",
    "# Train the Ridge regression model for conversion_rate\n",
    "ridge_cr = Ridge()\n",
    "ridge_cr.fit(X_train_cr, y_train_cr)\n",
    "\n",
    "# Predict and evaluate the Lasso model for click_through_rate\n",
    "y_pred_lasso_ctr = lasso_ctr.predict(X_test_ctr)\n",
    "lasso_ctr_score = lasso_ctr.score(X_test_ctr, y_test_ctr) * 100\n",
    "print(f'Lasso Click Through Rate Model Accuracy: {lasso_ctr_score:.2f}%')\n",
    "\n",
    "# Predict and evaluate the Lasso model for conversion_rate\n",
    "y_pred_lasso_cr = lasso_cr.predict(X_test_cr)\n",
    "lasso_cr_score = lasso_cr.score(X_test_cr, y_test_cr) * 100\n",
    "print(f'Lasso Conversion Rate Model Accuracy: {lasso_cr_score:.2f}%')\n",
    "\n",
    "# Predict and evaluate the Ridge model for click_through_rate\n",
    "y_pred_ridge_ctr = ridge_ctr.predict(X_test_ctr)\n",
    "ridge_ctr_score = ridge_ctr.score(X_test_ctr, y_test_ctr) * 100\n",
    "print(f'Ridge Click Through Rate Model Accuracy: {ridge_ctr_score:.2f}%')\n",
    "\n",
    "# Predict and evaluate the Ridge model for conversion_rate\n",
    "y_pred_ridge_cr = ridge_cr.predict(X_test_cr)\n",
    "ridge_cr_score = ridge_cr.score(X_test_cr, y_test_cr) * 100\n",
    "print(f'Ridge Conversion Rate Model Accuracy: {ridge_cr_score:.2f}%')"
   ]
  },
  {
   "cell_type": "code",
   "execution_count": 35,
   "metadata": {},
   "outputs": [
    {
     "name": "stdout",
     "output_type": "stream",
     "text": [
      "Polynomial Click Through Rate Model Accuracy: -33.09%\n",
      "Polynomial Conversion Rate Model Accuracy: -77.89%\n"
     ]
    }
   ],
   "source": [
    "from sklearn.preprocessing import PolynomialFeatures\n",
    "from sklearn.pipeline import make_pipeline\n",
    "\n",
    "# Define the degree of the polynomial\n",
    "degree = 5\n",
    "\n",
    "# Create a pipeline for polynomial regression for click_through_rate\n",
    "poly_model_ctr = make_pipeline(PolynomialFeatures(degree), LinearRegression())\n",
    "poly_model_ctr.fit(X_train_ctr, y_train_ctr)\n",
    "\n",
    "# Create a pipeline for polynomial regression for conversion_rate\n",
    "poly_model_cr = make_pipeline(PolynomialFeatures(degree), LinearRegression())\n",
    "poly_model_cr.fit(X_train_cr, y_train_cr)\n",
    "\n",
    "# Predict and evaluate the polynomial model for click_through_rate\n",
    "y_pred_poly_ctr = poly_model_ctr.predict(X_test_ctr)\n",
    "poly_ctr_score = poly_model_ctr.score(X_test_ctr, y_test_ctr) * 100\n",
    "print(f'Polynomial Click Through Rate Model Accuracy: {poly_ctr_score:.2f}%')\n",
    "\n",
    "# Predict and evaluate the polynomial model for conversion_rate\n",
    "y_pred_poly_cr = poly_model_cr.predict(X_test_cr)\n",
    "poly_cr_score = poly_model_cr.score(X_test_cr, y_test_cr) * 100\n",
    "print(f'Polynomial Conversion Rate Model Accuracy: {poly_cr_score:.2f}%')"
   ]
  },
  {
   "cell_type": "code",
   "execution_count": 36,
   "metadata": {},
   "outputs": [
    {
     "name": "stdout",
     "output_type": "stream",
     "text": [
      "Neural Network Click Through Rate Model Accuracy: -211.56%\n",
      "Neural Network Conversion Rate Model Accuracy: -455.06%\n"
     ]
    }
   ],
   "source": [
    "from sklearn.neural_network import MLPRegressor\n",
    "\n",
    "# Train the neural network model for click_through_rate\n",
    "nn_ctr = MLPRegressor(hidden_layer_sizes=(100,), max_iter=1000, random_state=42)\n",
    "nn_ctr.fit(X_train_ctr, y_train_ctr)\n",
    "\n",
    "# Train the neural network model for conversion_rate\n",
    "nn_cr = MLPRegressor(hidden_layer_sizes=(100,), max_iter=1000, random_state=42)\n",
    "nn_cr.fit(X_train_cr, y_train_cr)\n",
    "\n",
    "# Predict and evaluate the neural network model for click_through_rate\n",
    "y_pred_nn_ctr = nn_ctr.predict(X_test_ctr)\n",
    "nn_ctr_score = nn_ctr.score(X_test_ctr, y_test_ctr) * 100\n",
    "print(f'Neural Network Click Through Rate Model Accuracy: {nn_ctr_score:.2f}%')\n",
    "\n",
    "# Predict and evaluate the neural network model for conversion_rate\n",
    "y_pred_nn_cr = nn_cr.predict(X_test_cr)\n",
    "nn_cr_score = nn_cr.score(X_test_cr, y_test_cr) * 100\n",
    "print(f'Neural Network Conversion Rate Model Accuracy: {nn_cr_score:.2f}%')"
   ]
  },
  {
   "cell_type": "code",
   "execution_count": 37,
   "metadata": {},
   "outputs": [
    {
     "name": "stdout",
     "output_type": "stream",
     "text": [
      "Relevance of each column for predicting Click Through Rate:\n",
      "                          Feature     Relevance\n",
      "37                    AdType_Text  8.536773e+12\n",
      "38                   AdType_Video  8.536773e+12\n",
      "36                  AdType_Banner  8.536773e+12\n",
      "21    AdPlatformType_Social Media  3.800509e+12\n",
      "20   AdPlatformType_Search Engine  3.356296e+12\n",
      "22       AdPlatformType_Streaming  2.555234e+12\n",
      "23              AdPlatformType_TV  1.963705e+12\n",
      "2         AdPlatformName_Facebook  1.245274e+12\n",
      "18         AdPlatformName_YouTube  1.245274e+12\n",
      "16         AdPlatformName_Twitter  1.245274e+12\n",
      "15         AdPlatformName_Threads  1.245274e+12\n",
      "5        AdPlatformName_Instagram  1.245274e+12\n",
      "8         AdPlatformName_LinkedIn  1.245274e+12\n",
      "13        AdPlatformName_Snapchat  1.245274e+12\n",
      "27                AdTopic_Fashion  1.136102e+12\n",
      "26          AdTopic_Entertainment  1.136102e+12\n",
      "33                 AdTopic_Sports  1.136102e+12\n",
      "30             AdTopic_Healthcare  1.136102e+12\n",
      "32            AdTopic_Real Estate  1.136102e+12\n",
      "28                AdTopic_Finance  1.136102e+12\n",
      "31              AdTopic_Political  1.136102e+12\n",
      "35                 AdTopic_Travel  1.136102e+12\n",
      "34             AdTopic_Technology  1.136102e+12\n",
      "25              AdTopic_Education  1.136102e+12\n",
      "29                   AdTopic_Food  1.136102e+12\n",
      "24             AdTopic_Automobile  1.136102e+12\n",
      "1             AdPlatformName_Bing  8.010617e+11\n",
      "17           AdPlatformName_Yahoo  8.010617e+11\n",
      "3           AdPlatformName_Google  8.010617e+11\n",
      "10   AdPlatformName_Music Channel  5.915289e+11\n",
      "7     AdPlatformName_Kids Channel  5.915289e+11\n",
      "9    AdPlatformName_Movie Channel  5.915289e+11\n",
      "12    AdPlatformName_News Channel  5.915289e+11\n",
      "14  AdPlatformName_Sports Channel  5.915289e+11\n",
      "11         AdPlatformName_Netflix  2.794957e-02\n",
      "6            AdPlatformName_JioTV  2.748784e-02\n",
      "19            AdPlatformName_Zee5  2.229042e-02\n",
      "0     AdPlatformName_Amazon Prime  1.692123e-02\n",
      "4          AdPlatformName_Hotstar  2.587995e-03\n",
      "Relevance of each column for predicting Conversion Rate:\n",
      "                          Feature     Relevance\n",
      "37                    AdType_Text  2.172814e+12\n",
      "38                   AdType_Video  2.172814e+12\n",
      "36                  AdType_Banner  2.172814e+12\n",
      "21    AdPlatformType_Social Media  9.673209e+11\n",
      "20   AdPlatformType_Search Engine  8.542581e+11\n",
      "22       AdPlatformType_Streaming  6.503686e+11\n",
      "23              AdPlatformType_TV  4.998103e+11\n",
      "13        AdPlatformName_Snapchat  3.169523e+11\n",
      "16         AdPlatformName_Twitter  3.169523e+11\n",
      "2         AdPlatformName_Facebook  3.169523e+11\n",
      "5        AdPlatformName_Instagram  3.169523e+11\n",
      "15         AdPlatformName_Threads  3.169523e+11\n",
      "18         AdPlatformName_YouTube  3.169523e+11\n",
      "8         AdPlatformName_LinkedIn  3.169523e+11\n",
      "26          AdTopic_Entertainment  2.891652e+11\n",
      "24             AdTopic_Automobile  2.891652e+11\n",
      "35                 AdTopic_Travel  2.891652e+11\n",
      "29                   AdTopic_Food  2.891652e+11\n",
      "32            AdTopic_Real Estate  2.891652e+11\n",
      "28                AdTopic_Finance  2.891652e+11\n",
      "33                 AdTopic_Sports  2.891652e+11\n",
      "27                AdTopic_Fashion  2.891652e+11\n",
      "31              AdTopic_Political  2.891652e+11\n",
      "25              AdTopic_Education  2.891652e+11\n",
      "30             AdTopic_Healthcare  2.891652e+11\n",
      "34             AdTopic_Technology  2.891652e+11\n",
      "1             AdPlatformName_Bing  2.038895e+11\n",
      "3           AdPlatformName_Google  2.038895e+11\n",
      "17           AdPlatformName_Yahoo  2.038895e+11\n",
      "14  AdPlatformName_Sports Channel  1.505583e+11\n",
      "7     AdPlatformName_Kids Channel  1.505583e+11\n",
      "9    AdPlatformName_Movie Channel  1.505583e+11\n",
      "10   AdPlatformName_Music Channel  1.505583e+11\n",
      "12    AdPlatformName_News Channel  1.505583e+11\n",
      "11         AdPlatformName_Netflix  3.365630e-02\n",
      "6            AdPlatformName_JioTV  2.177961e-02\n",
      "19            AdPlatformName_Zee5  2.061981e-02\n",
      "4          AdPlatformName_Hotstar  2.027816e-02\n",
      "0     AdPlatformName_Amazon Prime  1.868025e-03\n"
     ]
    }
   ],
   "source": [
    "import pandas as pd\n",
    "import numpy as np\n",
    "\n",
    "# Get the coefficients of the linear regression model for click_through_rate\n",
    "coefficients_ctr = model_ctr.coef_\n",
    "\n",
    "# Get the coefficients of the linear regression model for conversion_rate\n",
    "coefficients_cr = model_cr.coef_\n",
    "\n",
    "# Create a DataFrame to store the feature names and their relevance for click_through_rate\n",
    "relevance_ctr = pd.DataFrame({\n",
    "    'Feature': X.columns,\n",
    "    'Relevance': np.abs(coefficients_ctr)\n",
    "})\n",
    "\n",
    "# Create a DataFrame to store the feature names and their relevance for conversion_rate\n",
    "relevance_cr = pd.DataFrame({\n",
    "    'Feature': X.columns,\n",
    "    'Relevance': np.abs(coefficients_cr)\n",
    "})\n",
    "\n",
    "# Sort the DataFrames by relevance in descending order\n",
    "relevance_ctr = relevance_ctr.sort_values(by='Relevance', ascending=False)\n",
    "relevance_cr = relevance_cr.sort_values(by='Relevance', ascending=False)\n",
    "\n",
    "# Print the relevance of each column for predicting click_through_rate\n",
    "print(\"Relevance of each column for predicting Click Through Rate:\")\n",
    "print(relevance_ctr)\n",
    "\n",
    "# Print the relevance of each column for predicting conversion_rate\n",
    "print(\"Relevance of each column for predicting Conversion Rate:\")\n",
    "print(relevance_cr)"
   ]
  },
  {
   "cell_type": "code",
   "execution_count": 42,
   "metadata": {},
   "outputs": [
    {
     "name": "stdout",
     "output_type": "stream",
     "text": [
      "Models saved successfully.\n"
     ]
    }
   ],
   "source": [
    "import joblib\n",
    "\n",
    "# Train the linear regression model for click_through_rate\n",
    "model_ctr = LinearRegression()\n",
    "model_ctr.fit(X_train_ctr, y_train_ctr)\n",
    "\n",
    "# Train the linear regression model for conversion_rate\n",
    "model_cr = LinearRegression()\n",
    "model_cr.fit(X_train_cr, y_train_cr)\n",
    "\n",
    "# Save the models using joblib\n",
    "joblib.dump(model_ctr, '/mnt/c/de/project/Advertisement-Response-Analysis/model/model_ctr_1.joblib')\n",
    "joblib.dump(model_cr, '/mnt/c/de/project/Advertisement-Response-Analysis/model/model_cr_1.joblib')\n",
    "\n",
    "print(\"Models saved successfully.\")"
   ]
  },
  {
   "cell_type": "code",
   "execution_count": null,
   "metadata": {},
   "outputs": [],
   "source": []
  }
 ],
 "metadata": {
  "kernelspec": {
   "display_name": "Python 3",
   "language": "python",
   "name": "python3"
  },
  "language_info": {
   "codemirror_mode": {
    "name": "ipython",
    "version": 3
   },
   "file_extension": ".py",
   "mimetype": "text/x-python",
   "name": "python",
   "nbconvert_exporter": "python",
   "pygments_lexer": "ipython3",
   "version": "3.8.10"
  }
 },
 "nbformat": 4,
 "nbformat_minor": 2
}
